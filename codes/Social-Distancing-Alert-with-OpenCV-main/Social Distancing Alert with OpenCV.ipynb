{
 "cells": [
  {
   "cell_type": "code",
   "execution_count": 1,
   "metadata": {
    "execution": {
     "iopub.execute_input": "2020-10-09T17:03:33.375650Z",
     "iopub.status.busy": "2020-10-09T17:03:33.375650Z",
     "iopub.status.idle": "2020-10-09T17:03:33.809884Z",
     "shell.execute_reply": "2020-10-09T17:03:33.808905Z",
     "shell.execute_reply.started": "2020-10-09T17:03:33.375650Z"
    }
   },
   "outputs": [],
   "source": [
    "import cv2\n",
    "import imutils\n",
    "from imutils.object_detection import non_max_suppression\n",
    "import numpy as np"
   ]
  },
  {
   "cell_type": "code",
   "execution_count": 2,
   "metadata": {
    "execution": {
     "iopub.execute_input": "2020-10-09T17:03:34.327814Z",
     "iopub.status.busy": "2020-10-09T17:03:34.326842Z",
     "iopub.status.idle": "2020-10-09T17:03:35.937348Z",
     "shell.execute_reply": "2020-10-09T17:03:35.936373Z",
     "shell.execute_reply.started": "2020-10-09T17:03:34.327814Z"
    }
   },
   "outputs": [],
   "source": [
    "hog = cv2.HOGDescriptor()\n",
    "hog.setSVMDetector(cv2.HOGDescriptor_getDefaultPeopleDetector())"
   ]
  },
  {
   "cell_type": "code",
   "execution_count": 5,
   "metadata": {
    "execution": {
     "iopub.execute_input": "2020-10-09T17:04:09.960288Z",
     "iopub.status.busy": "2020-10-09T17:04:09.960288Z",
     "iopub.status.idle": "2020-10-09T17:04:13.250250Z",
     "shell.execute_reply": "2020-10-09T17:04:13.249275Z",
     "shell.execute_reply.started": "2020-10-09T17:04:09.960288Z"
    }
   },
   "outputs": [],
   "source": [
    "image = cv2.imread(\"pedestrians.jpg\")\n",
    "image = imutils.resize(image, width=min(600, image.shape[1]))\n",
    "orig = image.copy()\n",
    "\n",
    "# detect people in the image\n",
    "(rects, weights) = hog.detectMultiScale(image, winStride=(4,4), padding=(4, 4), scale=1.03)\n",
    "\n",
    "# apply non-maxima suppression to the bounding boxes\n",
    "rects = np.array([[x, y, x + w, y + h] for (x, y, w, h) in rects])\n",
    "pick = non_max_suppression(rects, probs=None, overlapThresh=0.65)\n",
    "\n",
    "\n",
    "# draw the bounding boxes and calculate center of each box\n",
    "centers=[]\n",
    "for (xA, yA, xB, yB) in pick:\n",
    "    cv2.rectangle(image, (xA, yA), (xB, yB), (0, 255, 0), 2)\n",
    "    xC=xA+int((xB-xA)/2)\n",
    "    yC=yA+int((yB-yA)/2)\n",
    "    centers.append((xC,yC))\n",
    "    \n",
    "# calculate distances of bounding boxes centers\n",
    "# and add them to a list if they are close enough\n",
    "# and their y-coordinates are in a range\n",
    "nears=[]\n",
    "minDistance=image.shape[1]//6\n",
    "\n",
    "for i,p1 in enumerate(centers):\n",
    "    for j,p2 in enumerate(centers[i+1:]):\n",
    "        if (np.linalg.norm(np.array(p2)-np.array(p1)))<minDistance:\n",
    "            if abs(p1[1] - p2[1])< image.shape[0]*0.1:\n",
    "                nears.append((i,j+i+1))\n",
    "\n",
    "# draw red bounding boxes for close people              \n",
    "for (i,j) in nears:\n",
    "    (xA, yA, xB, yB) = pick[i]\n",
    "    cv2.rectangle(image, (xA, yA), (xB, yB), (0, 0, 255), 2)\n",
    "    (xA, yA, xB, yB) = pick[j]\n",
    "    cv2.rectangle(image, (xA, yA), (xB, yB), (0, 0, 255), 2)\n",
    "    \n",
    "\n",
    "# show the output images\n",
    "cv2.imshow(\"Alerts\", image)\n",
    "if cv2.waitKey(0):\n",
    "    cv2.destroyAllWindows()"
   ]
  },
  {
   "cell_type": "code",
   "execution_count": null,
   "metadata": {},
   "outputs": [],
   "source": []
  }
 ],
 "metadata": {
  "kernelspec": {
   "display_name": "Python 3",
   "language": "python",
   "name": "python3"
  },
  "language_info": {
   "codemirror_mode": {
    "name": "ipython",
    "version": 3
   },
   "file_extension": ".py",
   "mimetype": "text/x-python",
   "name": "python",
   "nbconvert_exporter": "python",
   "pygments_lexer": "ipython3",
   "version": "3.6.7"
  }
 },
 "nbformat": 4,
 "nbformat_minor": 4
}
